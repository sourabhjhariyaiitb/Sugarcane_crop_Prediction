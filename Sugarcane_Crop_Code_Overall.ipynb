{
 "cells": [
  {
   "cell_type": "markdown",
   "metadata": {},
   "source": [
    "## INPUT "
   ]
  },
  {
   "cell_type": "code",
   "execution_count": 2,
   "metadata": {},
   "outputs": [],
   "source": [
    "import pandas as pd\n",
    "import numpy as np\n",
    "import matplotlib.pyplot as plt\n",
    "import sklearn as Linear_model\n",
    "import seaborn as sns\n",
    "%matplotlib inline"
   ]
  },
  {
   "cell_type": "code",
   "execution_count": 3,
   "metadata": {},
   "outputs": [],
   "source": [
    "df = pd.read_csv(\"dataset_project.csv\")"
   ]
  },
  {
   "cell_type": "code",
   "execution_count": 5,
   "metadata": {},
   "outputs": [
    {
     "data": {
      "text/html": [
       "<div>\n",
       "<style scoped>\n",
       "    .dataframe tbody tr th:only-of-type {\n",
       "        vertical-align: middle;\n",
       "    }\n",
       "\n",
       "    .dataframe tbody tr th {\n",
       "        vertical-align: top;\n",
       "    }\n",
       "\n",
       "    .dataframe thead th {\n",
       "        text-align: right;\n",
       "    }\n",
       "</style>\n",
       "<table border=\"1\" class=\"dataframe\">\n",
       "  <thead>\n",
       "    <tr style=\"text-align: right;\">\n",
       "      <th></th>\n",
       "      <th>year</th>\n",
       "      <th>area</th>\n",
       "      <th>production</th>\n",
       "      <th>productivity</th>\n",
       "      <th>rainfall</th>\n",
       "      <th>temperature</th>\n",
       "    </tr>\n",
       "  </thead>\n",
       "  <tbody>\n",
       "    <tr>\n",
       "      <th>0</th>\n",
       "      <td>1950</td>\n",
       "      <td>75</td>\n",
       "      <td>5009</td>\n",
       "      <td>66.79</td>\n",
       "      <td>932.6</td>\n",
       "      <td>23.71</td>\n",
       "    </tr>\n",
       "    <tr>\n",
       "      <th>1</th>\n",
       "      <td>1951</td>\n",
       "      <td>84</td>\n",
       "      <td>5751</td>\n",
       "      <td>68.46</td>\n",
       "      <td>797.0</td>\n",
       "      <td>24.22</td>\n",
       "    </tr>\n",
       "    <tr>\n",
       "      <th>2</th>\n",
       "      <td>1952</td>\n",
       "      <td>73</td>\n",
       "      <td>4389</td>\n",
       "      <td>60.12</td>\n",
       "      <td>683.3</td>\n",
       "      <td>24.34</td>\n",
       "    </tr>\n",
       "    <tr>\n",
       "      <th>3</th>\n",
       "      <td>1953</td>\n",
       "      <td>71</td>\n",
       "      <td>5250</td>\n",
       "      <td>73.94</td>\n",
       "      <td>893.6</td>\n",
       "      <td>24.57</td>\n",
       "    </tr>\n",
       "    <tr>\n",
       "      <th>4</th>\n",
       "      <td>1954</td>\n",
       "      <td>74</td>\n",
       "      <td>5294</td>\n",
       "      <td>71.54</td>\n",
       "      <td>985.1</td>\n",
       "      <td>24.13</td>\n",
       "    </tr>\n",
       "    <tr>\n",
       "      <th>...</th>\n",
       "      <td>...</td>\n",
       "      <td>...</td>\n",
       "      <td>...</td>\n",
       "      <td>...</td>\n",
       "      <td>...</td>\n",
       "      <td>...</td>\n",
       "    </tr>\n",
       "    <tr>\n",
       "      <th>63</th>\n",
       "      <td>2013</td>\n",
       "      <td>937</td>\n",
       "      <td>76901</td>\n",
       "      <td>82.07</td>\n",
       "      <td>962.4</td>\n",
       "      <td>24.82</td>\n",
       "    </tr>\n",
       "    <tr>\n",
       "      <th>64</th>\n",
       "      <td>2014</td>\n",
       "      <td>1048</td>\n",
       "      <td>81870</td>\n",
       "      <td>78.12</td>\n",
       "      <td>838.0</td>\n",
       "      <td>24.73</td>\n",
       "    </tr>\n",
       "    <tr>\n",
       "      <th>65</th>\n",
       "      <td>2015</td>\n",
       "      <td>987</td>\n",
       "      <td>75087</td>\n",
       "      <td>76.08</td>\n",
       "      <td>644.5</td>\n",
       "      <td>24.91</td>\n",
       "    </tr>\n",
       "    <tr>\n",
       "      <th>66</th>\n",
       "      <td>2016</td>\n",
       "      <td>633</td>\n",
       "      <td>52262</td>\n",
       "      <td>82.56</td>\n",
       "      <td>906.3</td>\n",
       "      <td>26.45</td>\n",
       "    </tr>\n",
       "    <tr>\n",
       "      <th>67</th>\n",
       "      <td>2017</td>\n",
       "      <td>943</td>\n",
       "      <td>70958</td>\n",
       "      <td>75.25</td>\n",
       "      <td>994.4</td>\n",
       "      <td>26.65</td>\n",
       "    </tr>\n",
       "  </tbody>\n",
       "</table>\n",
       "<p>68 rows × 6 columns</p>\n",
       "</div>"
      ],
      "text/plain": [
       "    year  area  production  productivity  rainfall  temperature\n",
       "0   1950    75        5009         66.79     932.6        23.71\n",
       "1   1951    84        5751         68.46     797.0        24.22\n",
       "2   1952    73        4389         60.12     683.3        24.34\n",
       "3   1953    71        5250         73.94     893.6        24.57\n",
       "4   1954    74        5294         71.54     985.1        24.13\n",
       "..   ...   ...         ...           ...       ...          ...\n",
       "63  2013   937       76901         82.07     962.4        24.82\n",
       "64  2014  1048       81870         78.12     838.0        24.73\n",
       "65  2015   987       75087         76.08     644.5        24.91\n",
       "66  2016   633       52262         82.56     906.3        26.45\n",
       "67  2017   943       70958         75.25     994.4        26.65\n",
       "\n",
       "[68 rows x 6 columns]"
      ]
     },
     "execution_count": 5,
     "metadata": {},
     "output_type": "execute_result"
    }
   ],
   "source": [
    "df #simple"
   ]
  },
  {
   "cell_type": "code",
   "execution_count": 8,
   "metadata": {},
   "outputs": [
    {
     "data": {
      "text/html": [
       "<div>\n",
       "<style scoped>\n",
       "    .dataframe tbody tr th:only-of-type {\n",
       "        vertical-align: middle;\n",
       "    }\n",
       "\n",
       "    .dataframe tbody tr th {\n",
       "        vertical-align: top;\n",
       "    }\n",
       "\n",
       "    .dataframe thead th {\n",
       "        text-align: right;\n",
       "    }\n",
       "</style>\n",
       "<table border=\"1\" class=\"dataframe\">\n",
       "  <thead>\n",
       "    <tr style=\"text-align: right;\">\n",
       "      <th></th>\n",
       "      <th>year</th>\n",
       "      <th>area</th>\n",
       "      <th>production</th>\n",
       "      <th>productivity</th>\n",
       "      <th>rainfall</th>\n",
       "      <th>temperature</th>\n",
       "    </tr>\n",
       "  </thead>\n",
       "  <tbody>\n",
       "    <tr>\n",
       "      <th>0</th>\n",
       "      <td>1950</td>\n",
       "      <td>75</td>\n",
       "      <td>5009</td>\n",
       "      <td>66.79</td>\n",
       "      <td>932.6</td>\n",
       "      <td>23.71</td>\n",
       "    </tr>\n",
       "    <tr>\n",
       "      <th>1</th>\n",
       "      <td>1951</td>\n",
       "      <td>84</td>\n",
       "      <td>5751</td>\n",
       "      <td>68.46</td>\n",
       "      <td>797.0</td>\n",
       "      <td>24.22</td>\n",
       "    </tr>\n",
       "    <tr>\n",
       "      <th>2</th>\n",
       "      <td>1952</td>\n",
       "      <td>73</td>\n",
       "      <td>4389</td>\n",
       "      <td>60.12</td>\n",
       "      <td>683.3</td>\n",
       "      <td>24.34</td>\n",
       "    </tr>\n",
       "    <tr>\n",
       "      <th>3</th>\n",
       "      <td>1953</td>\n",
       "      <td>71</td>\n",
       "      <td>5250</td>\n",
       "      <td>73.94</td>\n",
       "      <td>893.6</td>\n",
       "      <td>24.57</td>\n",
       "    </tr>\n",
       "    <tr>\n",
       "      <th>4</th>\n",
       "      <td>1954</td>\n",
       "      <td>74</td>\n",
       "      <td>5294</td>\n",
       "      <td>71.54</td>\n",
       "      <td>985.1</td>\n",
       "      <td>24.13</td>\n",
       "    </tr>\n",
       "  </tbody>\n",
       "</table>\n",
       "</div>"
      ],
      "text/plain": [
       "   year  area  production  productivity  rainfall  temperature\n",
       "0  1950    75        5009         66.79     932.6        23.71\n",
       "1  1951    84        5751         68.46     797.0        24.22\n",
       "2  1952    73        4389         60.12     683.3        24.34\n",
       "3  1953    71        5250         73.94     893.6        24.57\n",
       "4  1954    74        5294         71.54     985.1        24.13"
      ]
     },
     "execution_count": 8,
     "metadata": {},
     "output_type": "execute_result"
    }
   ],
   "source": [
    "df.head() #top data"
   ]
  },
  {
   "cell_type": "code",
   "execution_count": 49,
   "metadata": {},
   "outputs": [
    {
     "data": {
      "text/html": [
       "<div>\n",
       "<style scoped>\n",
       "    .dataframe tbody tr th:only-of-type {\n",
       "        vertical-align: middle;\n",
       "    }\n",
       "\n",
       "    .dataframe tbody tr th {\n",
       "        vertical-align: top;\n",
       "    }\n",
       "\n",
       "    .dataframe thead th {\n",
       "        text-align: right;\n",
       "    }\n",
       "</style>\n",
       "<table border=\"1\" class=\"dataframe\">\n",
       "  <thead>\n",
       "    <tr style=\"text-align: right;\">\n",
       "      <th></th>\n",
       "      <th>year</th>\n",
       "      <th>area</th>\n",
       "      <th>production</th>\n",
       "      <th>productivity</th>\n",
       "      <th>rainfall</th>\n",
       "      <th>temperature</th>\n",
       "    </tr>\n",
       "  </thead>\n",
       "  <tbody>\n",
       "    <tr>\n",
       "      <th>count</th>\n",
       "      <td>68.00000</td>\n",
       "      <td>68.000000</td>\n",
       "      <td>68.000000</td>\n",
       "      <td>68.000000</td>\n",
       "      <td>68.000000</td>\n",
       "      <td>68.000000</td>\n",
       "    </tr>\n",
       "    <tr>\n",
       "      <th>mean</th>\n",
       "      <td>1983.50000</td>\n",
       "      <td>390.897059</td>\n",
       "      <td>31385.764706</td>\n",
       "      <td>78.792941</td>\n",
       "      <td>909.804412</td>\n",
       "      <td>24.453676</td>\n",
       "    </tr>\n",
       "    <tr>\n",
       "      <th>std</th>\n",
       "      <td>19.77372</td>\n",
       "      <td>294.741938</td>\n",
       "      <td>23816.851508</td>\n",
       "      <td>9.783098</td>\n",
       "      <td>148.574998</td>\n",
       "      <td>0.504141</td>\n",
       "    </tr>\n",
       "    <tr>\n",
       "      <th>min</th>\n",
       "      <td>1950.00000</td>\n",
       "      <td>71.000000</td>\n",
       "      <td>4389.000000</td>\n",
       "      <td>57.940000</td>\n",
       "      <td>519.900000</td>\n",
       "      <td>23.710000</td>\n",
       "    </tr>\n",
       "    <tr>\n",
       "      <th>25%</th>\n",
       "      <td>1966.75000</td>\n",
       "      <td>163.750000</td>\n",
       "      <td>11508.250000</td>\n",
       "      <td>71.505000</td>\n",
       "      <td>804.950000</td>\n",
       "      <td>24.117500</td>\n",
       "    </tr>\n",
       "    <tr>\n",
       "      <th>50%</th>\n",
       "      <td>1983.50000</td>\n",
       "      <td>292.000000</td>\n",
       "      <td>24537.000000</td>\n",
       "      <td>79.445000</td>\n",
       "      <td>917.850000</td>\n",
       "      <td>24.355000</td>\n",
       "    </tr>\n",
       "    <tr>\n",
       "      <th>75%</th>\n",
       "      <td>2000.25000</td>\n",
       "      <td>540.750000</td>\n",
       "      <td>44480.000000</td>\n",
       "      <td>85.680000</td>\n",
       "      <td>996.025000</td>\n",
       "      <td>24.670000</td>\n",
       "    </tr>\n",
       "    <tr>\n",
       "      <th>max</th>\n",
       "      <td>2017.00000</td>\n",
       "      <td>1093.000000</td>\n",
       "      <td>88437.000000</td>\n",
       "      <td>96.900000</td>\n",
       "      <td>1395.700000</td>\n",
       "      <td>26.650000</td>\n",
       "    </tr>\n",
       "  </tbody>\n",
       "</table>\n",
       "</div>"
      ],
      "text/plain": [
       "             year         area    production  productivity     rainfall  \\\n",
       "count    68.00000    68.000000     68.000000     68.000000    68.000000   \n",
       "mean   1983.50000   390.897059  31385.764706     78.792941   909.804412   \n",
       "std      19.77372   294.741938  23816.851508      9.783098   148.574998   \n",
       "min    1950.00000    71.000000   4389.000000     57.940000   519.900000   \n",
       "25%    1966.75000   163.750000  11508.250000     71.505000   804.950000   \n",
       "50%    1983.50000   292.000000  24537.000000     79.445000   917.850000   \n",
       "75%    2000.25000   540.750000  44480.000000     85.680000   996.025000   \n",
       "max    2017.00000  1093.000000  88437.000000     96.900000  1395.700000   \n",
       "\n",
       "       temperature  \n",
       "count    68.000000  \n",
       "mean     24.453676  \n",
       "std       0.504141  \n",
       "min      23.710000  \n",
       "25%      24.117500  \n",
       "50%      24.355000  \n",
       "75%      24.670000  \n",
       "max      26.650000  "
      ]
     },
     "execution_count": 49,
     "metadata": {},
     "output_type": "execute_result"
    }
   ],
   "source": [
    "df.describe()"
   ]
  },
  {
   "cell_type": "markdown",
   "metadata": {},
   "source": [
    "As mean of productivity is showing 78.79, so cutoff is taken as 80"
   ]
  },
  {
   "cell_type": "code",
   "execution_count": 10,
   "metadata": {},
   "outputs": [
    {
     "data": {
      "text/plain": [
       "(68, 6)"
      ]
     },
     "execution_count": 10,
     "metadata": {},
     "output_type": "execute_result"
    }
   ],
   "source": [
    "df.shape"
   ]
  },
  {
   "cell_type": "markdown",
   "metadata": {},
   "source": [
    "## SCATTERPLOT"
   ]
  },
  {
   "cell_type": "code",
   "execution_count": 12,
   "metadata": {},
   "outputs": [
    {
     "data": {
      "text/plain": [
       "<AxesSubplot:xlabel='rainfall', ylabel='productivity'>"
      ]
     },
     "execution_count": 12,
     "metadata": {},
     "output_type": "execute_result"
    },
    {
     "data": {
      "image/png": "[encoded data removed]",
      "text/plain": [
       "<Figure size 432x288 with 1 Axes>"
      ]
     },
     "metadata": {
      "needs_background": "light"
     },
     "output_type": "display_data"
    }
   ],
   "source": [
    "df.plot(kind='scatter',x='rainfall',y='productivity') #replace the variables like area, prod, temp, ranfall in x and y"
   ]
  },
  {
   "cell_type": "markdown",
   "metadata": {},
   "source": [
    "## CORRELATION COEFFICIENT"
   ]
  },
  {
   "cell_type": "code",
   "execution_count": 13,
   "metadata": {},
   "outputs": [
    {
     "data": {
      "text/html": [
       "<div>\n",
       "<style scoped>\n",
       "    .dataframe tbody tr th:only-of-type {\n",
       "        vertical-align: middle;\n",
       "    }\n",
       "\n",
       "    .dataframe tbody tr th {\n",
       "        vertical-align: top;\n",
       "    }\n",
       "\n",
       "    .dataframe thead th {\n",
       "        text-align: right;\n",
       "    }\n",
       "</style>\n",
       "<table border=\"1\" class=\"dataframe\">\n",
       "  <thead>\n",
       "    <tr style=\"text-align: right;\">\n",
       "      <th></th>\n",
       "      <th>year</th>\n",
       "      <th>area</th>\n",
       "      <th>production</th>\n",
       "      <th>productivity</th>\n",
       "      <th>rainfall</th>\n",
       "      <th>temperature</th>\n",
       "    </tr>\n",
       "  </thead>\n",
       "  <tbody>\n",
       "    <tr>\n",
       "      <th>year</th>\n",
       "      <td>1.000000</td>\n",
       "      <td>0.899007</td>\n",
       "      <td>0.898056</td>\n",
       "      <td>0.321123</td>\n",
       "      <td>-0.005620</td>\n",
       "      <td>0.674130</td>\n",
       "    </tr>\n",
       "    <tr>\n",
       "      <th>area</th>\n",
       "      <td>0.899007</td>\n",
       "      <td>1.000000</td>\n",
       "      <td>0.992131</td>\n",
       "      <td>0.206226</td>\n",
       "      <td>0.064036</td>\n",
       "      <td>0.653876</td>\n",
       "    </tr>\n",
       "    <tr>\n",
       "      <th>production</th>\n",
       "      <td>0.898056</td>\n",
       "      <td>0.992131</td>\n",
       "      <td>1.000000</td>\n",
       "      <td>0.308853</td>\n",
       "      <td>0.067100</td>\n",
       "      <td>0.635293</td>\n",
       "    </tr>\n",
       "    <tr>\n",
       "      <th>productivity</th>\n",
       "      <td>0.321123</td>\n",
       "      <td>0.206226</td>\n",
       "      <td>0.308853</td>\n",
       "      <td>1.000000</td>\n",
       "      <td>-0.010447</td>\n",
       "      <td>0.069827</td>\n",
       "    </tr>\n",
       "    <tr>\n",
       "      <th>rainfall</th>\n",
       "      <td>-0.005620</td>\n",
       "      <td>0.064036</td>\n",
       "      <td>0.067100</td>\n",
       "      <td>-0.010447</td>\n",
       "      <td>1.000000</td>\n",
       "      <td>0.070621</td>\n",
       "    </tr>\n",
       "    <tr>\n",
       "      <th>temperature</th>\n",
       "      <td>0.674130</td>\n",
       "      <td>0.653876</td>\n",
       "      <td>0.635293</td>\n",
       "      <td>0.069827</td>\n",
       "      <td>0.070621</td>\n",
       "      <td>1.000000</td>\n",
       "    </tr>\n",
       "  </tbody>\n",
       "</table>\n",
       "</div>"
      ],
      "text/plain": [
       "                  year      area  production  productivity  rainfall  \\\n",
       "year          1.000000  0.899007    0.898056      0.321123 -0.005620   \n",
       "area          0.899007  1.000000    0.992131      0.206226  0.064036   \n",
       "production    0.898056  0.992131    1.000000      0.308853  0.067100   \n",
       "productivity  0.321123  0.206226    0.308853      1.000000 -0.010447   \n",
       "rainfall     -0.005620  0.064036    0.067100     -0.010447  1.000000   \n",
       "temperature   0.674130  0.653876    0.635293      0.069827  0.070621   \n",
       "\n",
       "              temperature  \n",
       "year             0.674130  \n",
       "area             0.653876  \n",
       "production       0.635293  \n",
       "productivity     0.069827  \n",
       "rainfall         0.070621  \n",
       "temperature      1.000000  "
      ]
     },
     "execution_count": 13,
     "metadata": {},
     "output_type": "execute_result"
    }
   ],
   "source": [
    "df.corr()"
   ]
  },
  {
   "cell_type": "markdown",
   "metadata": {},
   "source": [
    "## HEAT MAP"
   ]
  },
  {
   "cell_type": "code",
   "execution_count": 14,
   "metadata": {},
   "outputs": [
    {
     "data": {
      "text/plain": [
       "<AxesSubplot:>"
      ]
     },
     "execution_count": 14,
     "metadata": {},
     "output_type": "execute_result"
    },
    {
     "data": {
      "image/png": "[encoded data removed]",
      "text/plain": [
       "<Figure size 432x288 with 2 Axes>"
      ]
     },
     "metadata": {
      "needs_background": "light"
     },
     "output_type": "display_data"
    }
   ],
   "source": [
    "sns.heatmap(df.corr())"
   ]
  },
  {
   "cell_type": "markdown",
   "metadata": {},
   "source": [
    "## Multiple linear Regression"
   ]
  },
  {
   "cell_type": "code",
   "execution_count": 30,
   "metadata": {},
   "outputs": [],
   "source": [
    "df1= pd.DataFrame(df,columns= ['year','area','production', 'rainfall', 'temperature'])"
   ]
  },
  {
   "cell_type": "code",
   "execution_count": 31,
   "metadata": {},
   "outputs": [],
   "source": [
    "X = df[['area','rainfall','temperature']]\n",
    "Y = df[['production']]"
   ]
  },
  {
   "cell_type": "code",
   "execution_count": 32,
   "metadata": {},
   "outputs": [],
   "source": [
    "from sklearn import linear_model #sklearn"
   ]
  },
  {
   "cell_type": "code",
   "execution_count": 33,
   "metadata": {},
   "outputs": [],
   "source": [
    "#creating multiple linear regression model\n",
    "mlr = linear_model.LinearRegression()\n",
    "model = mlr.fit(X,Y)"
   ]
  },
  {
   "cell_type": "code",
   "execution_count": 40,
   "metadata": {},
   "outputs": [
    {
     "data": {
      "text/plain": [
       "LinearRegression()"
      ]
     },
     "execution_count": 40,
     "metadata": {},
     "output_type": "execute_result"
    }
   ],
   "source": [
    "model"
   ]
  },
  {
   "attachments": {
    "image.png": {
     "image/png": "[encoded data removed]"
    }
   },
   "cell_type": "markdown",
   "metadata": {},
   "source": [
    "![image.png](attachment:image.png)"
   ]
  },
  {
   "cell_type": "code",
   "execution_count": 37,
   "metadata": {},
   "outputs": [
    {
     "data": {
      "text/plain": [
       "array([[ 8.13994521e+01,  6.83962420e-01, -1.11911611e+03]])"
      ]
     },
     "execution_count": 37,
     "metadata": {},
     "output_type": "execute_result"
    }
   ],
   "source": [
    "model.coef_ #Ø1,2,3"
   ]
  },
  {
   "cell_type": "code",
   "execution_count": 38,
   "metadata": {},
   "outputs": [
    {
     "data": {
      "text/plain": [
       "array([26311.18961447])"
      ]
     },
     "execution_count": 38,
     "metadata": {},
     "output_type": "execute_result"
    }
   ],
   "source": [
    "model.intercept_ #Ø0"
   ]
  },
  {
   "cell_type": "code",
   "execution_count": 39,
   "metadata": {},
   "outputs": [],
   "source": [
    "#predicting new values;asking\n",
    "new_area = 900\n",
    "new_rain = 71.5\n",
    "new_temp = 27"
   ]
  },
  {
   "cell_type": "code",
   "execution_count": 42,
   "metadata": {},
   "outputs": [
    {
     "data": {
      "text/plain": [
       "array([[69403.46479265]])"
      ]
     },
     "execution_count": 42,
     "metadata": {},
     "output_type": "execute_result"
    }
   ],
   "source": [
    "mlr.predict([[new_area,new_rain,new_temp]]) #getting the value of Y"
   ]
  },
  {
   "cell_type": "code",
   "execution_count": 48,
   "metadata": {},
   "outputs": [
    {
     "data": {
      "text/plain": [
       "Text(0.5, 1.0, 'Production vs Area')"
      ]
     },
     "execution_count": 48,
     "metadata": {},
     "output_type": "execute_result"
    },
    {
     "data": {
      "image/png": "[encoded data removed]",
      "text/plain": [
       "<Figure size 432x288 with 1 Axes>"
      ]
     },
     "metadata": {
      "needs_background": "light"
     },
     "output_type": "display_data"
    }
   ],
   "source": [
    "#second method to get scatterplot to get ___ vs production; so everytime change with area,rainfall and temp\n",
    "plt.scatter(df['area'].astype(float),df['production'].astype(float), color=\"green\")\n",
    "plt.xlabel(\"Area(ha)\")\n",
    "plt.ylabel(\"Production(t)\")\n",
    "plt.title(\"Production vs Area\")  #title\n",
    "#note that this is without plt.show()\n",
    "#plt.plot(X,model.predict(X), color=\"red\", linewidth=0.5)"
   ]
  },
  {
   "cell_type": "markdown",
   "metadata": {},
   "source": [
    "## SVM"
   ]
  },
  {
   "cell_type": "code",
   "execution_count": 77,
   "metadata": {},
   "outputs": [],
   "source": [
    "from sklearn.model_selection import train_test_split\n",
    "from sklearn import svm, datasets"
   ]
  },
  {
   "cell_type": "code",
   "execution_count": 78,
   "metadata": {},
   "outputs": [],
   "source": [
    "# deciding cutoff for productivity for low and high\n",
    "def new_type(row):\n",
    "  if(row['productivity'])>=80:\n",
    "    val = \"high\"\n",
    "  else:\n",
    "    val = \"low\"\n",
    "  return val"
   ]
  },
  {
   "cell_type": "code",
   "execution_count": 79,
   "metadata": {},
   "outputs": [
    {
     "data": {
      "text/html": [
       "<div>\n",
       "<style scoped>\n",
       "    .dataframe tbody tr th:only-of-type {\n",
       "        vertical-align: middle;\n",
       "    }\n",
       "\n",
       "    .dataframe tbody tr th {\n",
       "        vertical-align: top;\n",
       "    }\n",
       "\n",
       "    .dataframe thead th {\n",
       "        text-align: right;\n",
       "    }\n",
       "</style>\n",
       "<table border=\"1\" class=\"dataframe\">\n",
       "  <thead>\n",
       "    <tr style=\"text-align: right;\">\n",
       "      <th></th>\n",
       "      <th>year</th>\n",
       "      <th>area</th>\n",
       "      <th>production</th>\n",
       "      <th>productivity</th>\n",
       "      <th>rainfall</th>\n",
       "      <th>temperature</th>\n",
       "      <th>productivity_type</th>\n",
       "      <th>Target</th>\n",
       "    </tr>\n",
       "  </thead>\n",
       "  <tbody>\n",
       "    <tr>\n",
       "      <th>0</th>\n",
       "      <td>1950</td>\n",
       "      <td>75</td>\n",
       "      <td>5009</td>\n",
       "      <td>66.79</td>\n",
       "      <td>932.6</td>\n",
       "      <td>23.71</td>\n",
       "      <td>low</td>\n",
       "      <td>0.0</td>\n",
       "    </tr>\n",
       "    <tr>\n",
       "      <th>1</th>\n",
       "      <td>1951</td>\n",
       "      <td>84</td>\n",
       "      <td>5751</td>\n",
       "      <td>68.46</td>\n",
       "      <td>797.0</td>\n",
       "      <td>24.22</td>\n",
       "      <td>low</td>\n",
       "      <td>0.0</td>\n",
       "    </tr>\n",
       "    <tr>\n",
       "      <th>2</th>\n",
       "      <td>1952</td>\n",
       "      <td>73</td>\n",
       "      <td>4389</td>\n",
       "      <td>60.12</td>\n",
       "      <td>683.3</td>\n",
       "      <td>24.34</td>\n",
       "      <td>low</td>\n",
       "      <td>0.0</td>\n",
       "    </tr>\n",
       "    <tr>\n",
       "      <th>3</th>\n",
       "      <td>1953</td>\n",
       "      <td>71</td>\n",
       "      <td>5250</td>\n",
       "      <td>73.94</td>\n",
       "      <td>893.6</td>\n",
       "      <td>24.57</td>\n",
       "      <td>low</td>\n",
       "      <td>0.0</td>\n",
       "    </tr>\n",
       "    <tr>\n",
       "      <th>4</th>\n",
       "      <td>1954</td>\n",
       "      <td>74</td>\n",
       "      <td>5294</td>\n",
       "      <td>71.54</td>\n",
       "      <td>985.1</td>\n",
       "      <td>24.13</td>\n",
       "      <td>low</td>\n",
       "      <td>0.0</td>\n",
       "    </tr>\n",
       "  </tbody>\n",
       "</table>\n",
       "</div>"
      ],
      "text/plain": [
       "   year  area  production  productivity  rainfall  temperature  \\\n",
       "0  1950    75        5009         66.79     932.6        23.71   \n",
       "1  1951    84        5751         68.46     797.0        24.22   \n",
       "2  1952    73        4389         60.12     683.3        24.34   \n",
       "3  1953    71        5250         73.94     893.6        24.57   \n",
       "4  1954    74        5294         71.54     985.1        24.13   \n",
       "\n",
       "  productivity_type  Target  \n",
       "0               low     0.0  \n",
       "1               low     0.0  \n",
       "2               low     0.0  \n",
       "3               low     0.0  \n",
       "4               low     0.0  "
      ]
     },
     "execution_count": 79,
     "metadata": {},
     "output_type": "execute_result"
    }
   ],
   "source": [
    "df['productivity_type']= df.apply(new_type, axis=1)\n",
    "df.head()"
   ]
  },
  {
   "cell_type": "code",
   "execution_count": 80,
   "metadata": {},
   "outputs": [
    {
     "data": {
      "text/plain": [
       "low     35\n",
       "high    33\n",
       "Name: productivity_type, dtype: int64"
      ]
     },
     "execution_count": 80,
     "metadata": {},
     "output_type": "execute_result"
    }
   ],
   "source": [
    "#total number of count of low and high productivity\n",
    "df.productivity_type.value_counts()"
   ]
  },
  {
   "cell_type": "code",
   "execution_count": 81,
   "metadata": {},
   "outputs": [
    {
     "data": {
      "text/html": [
       "<div>\n",
       "<style scoped>\n",
       "    .dataframe tbody tr th:only-of-type {\n",
       "        vertical-align: middle;\n",
       "    }\n",
       "\n",
       "    .dataframe tbody tr th {\n",
       "        vertical-align: top;\n",
       "    }\n",
       "\n",
       "    .dataframe thead th {\n",
       "        text-align: right;\n",
       "    }\n",
       "</style>\n",
       "<table border=\"1\" class=\"dataframe\">\n",
       "  <thead>\n",
       "    <tr style=\"text-align: right;\">\n",
       "      <th></th>\n",
       "      <th>year</th>\n",
       "      <th>area</th>\n",
       "      <th>production</th>\n",
       "      <th>productivity</th>\n",
       "      <th>rainfall</th>\n",
       "      <th>temperature</th>\n",
       "      <th>productivity_type</th>\n",
       "      <th>Target</th>\n",
       "    </tr>\n",
       "  </thead>\n",
       "  <tbody>\n",
       "    <tr>\n",
       "      <th>0</th>\n",
       "      <td>1950</td>\n",
       "      <td>75</td>\n",
       "      <td>5009</td>\n",
       "      <td>66.79</td>\n",
       "      <td>932.6</td>\n",
       "      <td>23.71</td>\n",
       "      <td>low</td>\n",
       "      <td>0.0</td>\n",
       "    </tr>\n",
       "    <tr>\n",
       "      <th>1</th>\n",
       "      <td>1951</td>\n",
       "      <td>84</td>\n",
       "      <td>5751</td>\n",
       "      <td>68.46</td>\n",
       "      <td>797.0</td>\n",
       "      <td>24.22</td>\n",
       "      <td>low</td>\n",
       "      <td>0.0</td>\n",
       "    </tr>\n",
       "    <tr>\n",
       "      <th>2</th>\n",
       "      <td>1952</td>\n",
       "      <td>73</td>\n",
       "      <td>4389</td>\n",
       "      <td>60.12</td>\n",
       "      <td>683.3</td>\n",
       "      <td>24.34</td>\n",
       "      <td>low</td>\n",
       "      <td>0.0</td>\n",
       "    </tr>\n",
       "    <tr>\n",
       "      <th>3</th>\n",
       "      <td>1953</td>\n",
       "      <td>71</td>\n",
       "      <td>5250</td>\n",
       "      <td>73.94</td>\n",
       "      <td>893.6</td>\n",
       "      <td>24.57</td>\n",
       "      <td>low</td>\n",
       "      <td>0.0</td>\n",
       "    </tr>\n",
       "    <tr>\n",
       "      <th>4</th>\n",
       "      <td>1954</td>\n",
       "      <td>74</td>\n",
       "      <td>5294</td>\n",
       "      <td>71.54</td>\n",
       "      <td>985.1</td>\n",
       "      <td>24.13</td>\n",
       "      <td>low</td>\n",
       "      <td>0.0</td>\n",
       "    </tr>\n",
       "    <tr>\n",
       "      <th>...</th>\n",
       "      <td>...</td>\n",
       "      <td>...</td>\n",
       "      <td>...</td>\n",
       "      <td>...</td>\n",
       "      <td>...</td>\n",
       "      <td>...</td>\n",
       "      <td>...</td>\n",
       "      <td>...</td>\n",
       "    </tr>\n",
       "    <tr>\n",
       "      <th>63</th>\n",
       "      <td>2013</td>\n",
       "      <td>937</td>\n",
       "      <td>76901</td>\n",
       "      <td>82.07</td>\n",
       "      <td>962.4</td>\n",
       "      <td>24.82</td>\n",
       "      <td>high</td>\n",
       "      <td>1.0</td>\n",
       "    </tr>\n",
       "    <tr>\n",
       "      <th>64</th>\n",
       "      <td>2014</td>\n",
       "      <td>1048</td>\n",
       "      <td>81870</td>\n",
       "      <td>78.12</td>\n",
       "      <td>838.0</td>\n",
       "      <td>24.73</td>\n",
       "      <td>low</td>\n",
       "      <td>0.0</td>\n",
       "    </tr>\n",
       "    <tr>\n",
       "      <th>65</th>\n",
       "      <td>2015</td>\n",
       "      <td>987</td>\n",
       "      <td>75087</td>\n",
       "      <td>76.08</td>\n",
       "      <td>644.5</td>\n",
       "      <td>24.91</td>\n",
       "      <td>low</td>\n",
       "      <td>0.0</td>\n",
       "    </tr>\n",
       "    <tr>\n",
       "      <th>66</th>\n",
       "      <td>2016</td>\n",
       "      <td>633</td>\n",
       "      <td>52262</td>\n",
       "      <td>82.56</td>\n",
       "      <td>906.3</td>\n",
       "      <td>26.45</td>\n",
       "      <td>high</td>\n",
       "      <td>1.0</td>\n",
       "    </tr>\n",
       "    <tr>\n",
       "      <th>67</th>\n",
       "      <td>2017</td>\n",
       "      <td>943</td>\n",
       "      <td>70958</td>\n",
       "      <td>75.25</td>\n",
       "      <td>994.4</td>\n",
       "      <td>26.65</td>\n",
       "      <td>low</td>\n",
       "      <td>0.0</td>\n",
       "    </tr>\n",
       "  </tbody>\n",
       "</table>\n",
       "<p>68 rows × 8 columns</p>\n",
       "</div>"
      ],
      "text/plain": [
       "    year  area  production  productivity  rainfall  temperature  \\\n",
       "0   1950    75        5009         66.79     932.6        23.71   \n",
       "1   1951    84        5751         68.46     797.0        24.22   \n",
       "2   1952    73        4389         60.12     683.3        24.34   \n",
       "3   1953    71        5250         73.94     893.6        24.57   \n",
       "4   1954    74        5294         71.54     985.1        24.13   \n",
       "..   ...   ...         ...           ...       ...          ...   \n",
       "63  2013   937       76901         82.07     962.4        24.82   \n",
       "64  2014  1048       81870         78.12     838.0        24.73   \n",
       "65  2015   987       75087         76.08     644.5        24.91   \n",
       "66  2016   633       52262         82.56     906.3        26.45   \n",
       "67  2017   943       70958         75.25     994.4        26.65   \n",
       "\n",
       "   productivity_type  Target  \n",
       "0                low     0.0  \n",
       "1                low     0.0  \n",
       "2                low     0.0  \n",
       "3                low     0.0  \n",
       "4                low     0.0  \n",
       "..               ...     ...  \n",
       "63              high     1.0  \n",
       "64               low     0.0  \n",
       "65               low     0.0  \n",
       "66              high     1.0  \n",
       "67               low     0.0  \n",
       "\n",
       "[68 rows x 8 columns]"
      ]
     },
     "execution_count": 81,
     "metadata": {},
     "output_type": "execute_result"
    }
   ],
   "source": [
    "# Assigning target value repective to productivity type \n",
    "df.loc[df['productivity_type'] == 'high', 'Target'] = 1\n",
    "df.loc[df['productivity_type'] == 'low', 'Target'] = 0\n",
    "df"
   ]
  },
  {
   "cell_type": "code",
   "execution_count": 82,
   "metadata": {},
   "outputs": [
    {
     "data": {
      "text/plain": [
       "0.0    35\n",
       "1.0    33\n",
       "Name: Target, dtype: int64"
      ]
     },
     "execution_count": 82,
     "metadata": {},
     "output_type": "execute_result"
    }
   ],
   "source": [
    "#value coming out same as productivity type\n",
    "df.Target.value_counts()"
   ]
  },
  {
   "cell_type": "code",
   "execution_count": 83,
   "metadata": {},
   "outputs": [],
   "source": [
    "# Clustering low and high productivity \n",
    "df0 = df[df.Target == 0]\n",
    "df1 = df[df.Target == 1]"
   ]
  },
  {
   "cell_type": "code",
   "execution_count": 84,
   "metadata": {},
   "outputs": [
    {
     "data": {
      "image/png": "[encoded data removed]",
      "text/plain": [
       "<Figure size 432x288 with 1 Axes>"
      ]
     },
     "metadata": {
      "needs_background": "light"
     },
     "output_type": "display_data"
    }
   ],
   "source": [
    "#visualising dataset \n",
    "plt.xlabel('rainfall(mm)')\n",
    "plt.ylabel('productivity(t/ha)')\n",
    "plt.scatter(df0['rainfall'], df0['productivity'],color=\"green\",marker='+')\n",
    "plt.scatter(df1['rainfall'], df1['productivity'],color=\"blue\",marker='.')\n",
    "plt.legend([\"low productivity \",\"high productivity\"])\n",
    "plt.show()\n",
    "#keeping productivity at y axis constant; we can replace x_axis with area, temp, rainfall or production"
   ]
  },
  {
   "cell_type": "code",
   "execution_count": 85,
   "metadata": {},
   "outputs": [
    {
     "data": {
      "text/html": [
       "<div>\n",
       "<style scoped>\n",
       "    .dataframe tbody tr th:only-of-type {\n",
       "        vertical-align: middle;\n",
       "    }\n",
       "\n",
       "    .dataframe tbody tr th {\n",
       "        vertical-align: top;\n",
       "    }\n",
       "\n",
       "    .dataframe thead th {\n",
       "        text-align: right;\n",
       "    }\n",
       "</style>\n",
       "<table border=\"1\" class=\"dataframe\">\n",
       "  <thead>\n",
       "    <tr style=\"text-align: right;\">\n",
       "      <th></th>\n",
       "      <th>year</th>\n",
       "      <th>area</th>\n",
       "      <th>production</th>\n",
       "      <th>productivity</th>\n",
       "      <th>rainfall</th>\n",
       "      <th>temperature</th>\n",
       "    </tr>\n",
       "  </thead>\n",
       "  <tbody>\n",
       "    <tr>\n",
       "      <th>0</th>\n",
       "      <td>1950</td>\n",
       "      <td>75</td>\n",
       "      <td>5009</td>\n",
       "      <td>66.79</td>\n",
       "      <td>932.6</td>\n",
       "      <td>23.71</td>\n",
       "    </tr>\n",
       "    <tr>\n",
       "      <th>1</th>\n",
       "      <td>1951</td>\n",
       "      <td>84</td>\n",
       "      <td>5751</td>\n",
       "      <td>68.46</td>\n",
       "      <td>797.0</td>\n",
       "      <td>24.22</td>\n",
       "    </tr>\n",
       "    <tr>\n",
       "      <th>2</th>\n",
       "      <td>1952</td>\n",
       "      <td>73</td>\n",
       "      <td>4389</td>\n",
       "      <td>60.12</td>\n",
       "      <td>683.3</td>\n",
       "      <td>24.34</td>\n",
       "    </tr>\n",
       "    <tr>\n",
       "      <th>3</th>\n",
       "      <td>1953</td>\n",
       "      <td>71</td>\n",
       "      <td>5250</td>\n",
       "      <td>73.94</td>\n",
       "      <td>893.6</td>\n",
       "      <td>24.57</td>\n",
       "    </tr>\n",
       "    <tr>\n",
       "      <th>4</th>\n",
       "      <td>1954</td>\n",
       "      <td>74</td>\n",
       "      <td>5294</td>\n",
       "      <td>71.54</td>\n",
       "      <td>985.1</td>\n",
       "      <td>24.13</td>\n",
       "    </tr>\n",
       "  </tbody>\n",
       "</table>\n",
       "</div>"
      ],
      "text/plain": [
       "   year  area  production  productivity  rainfall  temperature\n",
       "0  1950    75        5009         66.79     932.6        23.71\n",
       "1  1951    84        5751         68.46     797.0        24.22\n",
       "2  1952    73        4389         60.12     683.3        24.34\n",
       "3  1953    71        5250         73.94     893.6        24.57\n",
       "4  1954    74        5294         71.54     985.1        24.13"
      ]
     },
     "execution_count": 85,
     "metadata": {},
     "output_type": "execute_result"
    }
   ],
   "source": [
    "# Dropping dropping Target column and productivity\n",
    "x = df.drop([\"productivity_type\",\"Target\"],axis = \"columns\")\n",
    "x.head()"
   ]
  },
  {
   "cell_type": "code",
   "execution_count": 86,
   "metadata": {},
   "outputs": [
    {
     "data": {
      "text/plain": [
       "0    0.0\n",
       "1    0.0\n",
       "2    0.0\n",
       "3    0.0\n",
       "4    0.0\n",
       "Name: Target, dtype: float64"
      ]
     },
     "execution_count": 86,
     "metadata": {},
     "output_type": "execute_result"
    }
   ],
   "source": [
    "y = df.Target\n",
    "y.head()"
   ]
  },
  {
   "cell_type": "code",
   "execution_count": 87,
   "metadata": {},
   "outputs": [],
   "source": [
    "X_train, X_test, y_train, y_test = train_test_split(x, y, train_size=0.8, random_state = 10)"
   ]
  },
  {
   "cell_type": "code",
   "execution_count": 88,
   "metadata": {},
   "outputs": [
    {
     "name": "stdout",
     "output_type": "stream",
     "text": [
      "for kenal : linear\n",
      "Accurcay is : 0.9285714285714286\n",
      "for kenal : rbf\n",
      "Accurcay is : 0.35714285714285715\n",
      "for kenal : poly\n",
      "Accurcay is : 0.9285714285714286\n",
      "for kenal : sigmoid\n",
      "Accurcay is : 0.35714285714285715\n"
     ]
    }
   ],
   "source": [
    "# Applying SVM with all possible kernal to know accuracy\n",
    "kernel = [\"linear\",\"rbf\",\"poly\",\"sigmoid\"]\n",
    "for i in kernel:\n",
    "  model = svm.SVC(kernel = i, C = 10, gamma = 1)\n",
    "  model.fit(X_train,y_train)\n",
    "  \n",
    "  print(\"for kenal :\",i)\n",
    "  print(\"Accurcay is :\", model.score(X_test, y_test))"
   ]
  },
  {
   "cell_type": "markdown",
   "metadata": {},
   "source": [
    "In the SVM model, polynomial kernal is giving high accuracy at C=10 and gamma = 1"
   ]
  },
  {
   "cell_type": "markdown",
   "metadata": {},
   "source": [
    "## Random Forest"
   ]
  },
  {
   "cell_type": "code",
   "execution_count": 89,
   "metadata": {},
   "outputs": [],
   "source": [
    "from sklearn.model_selection import train_test_split\n",
    "from sklearn.ensemble import RandomForestRegressor"
   ]
  },
  {
   "cell_type": "code",
   "execution_count": 105,
   "metadata": {},
   "outputs": [],
   "source": [
    "# deciding cutoff for productivity for low and high\n",
    "def new_type(row):\n",
    "  if(row['productivity'])>=85:\n",
    "    val = \"high\"\n",
    "  elif (row['productivity'])<70:\n",
    "    val = \"low\"\n",
    "  else:\n",
    "    val = \"medium\"\n",
    "  return val"
   ]
  },
  {
   "cell_type": "code",
   "execution_count": 98,
   "metadata": {},
   "outputs": [
    {
     "data": {
      "text/html": [
       "<div>\n",
       "<style scoped>\n",
       "    .dataframe tbody tr th:only-of-type {\n",
       "        vertical-align: middle;\n",
       "    }\n",
       "\n",
       "    .dataframe tbody tr th {\n",
       "        vertical-align: top;\n",
       "    }\n",
       "\n",
       "    .dataframe thead th {\n",
       "        text-align: right;\n",
       "    }\n",
       "</style>\n",
       "<table border=\"1\" class=\"dataframe\">\n",
       "  <thead>\n",
       "    <tr style=\"text-align: right;\">\n",
       "      <th></th>\n",
       "      <th>year</th>\n",
       "      <th>area</th>\n",
       "      <th>production</th>\n",
       "      <th>productivity</th>\n",
       "      <th>rainfall</th>\n",
       "      <th>temperature</th>\n",
       "      <th>productivity_type</th>\n",
       "      <th>Target</th>\n",
       "    </tr>\n",
       "  </thead>\n",
       "  <tbody>\n",
       "    <tr>\n",
       "      <th>0</th>\n",
       "      <td>1950</td>\n",
       "      <td>75</td>\n",
       "      <td>5009</td>\n",
       "      <td>66.79</td>\n",
       "      <td>932.6</td>\n",
       "      <td>23.71</td>\n",
       "      <td>low</td>\n",
       "      <td>0.0</td>\n",
       "    </tr>\n",
       "    <tr>\n",
       "      <th>1</th>\n",
       "      <td>1951</td>\n",
       "      <td>84</td>\n",
       "      <td>5751</td>\n",
       "      <td>68.46</td>\n",
       "      <td>797.0</td>\n",
       "      <td>24.22</td>\n",
       "      <td>low</td>\n",
       "      <td>0.0</td>\n",
       "    </tr>\n",
       "    <tr>\n",
       "      <th>2</th>\n",
       "      <td>1952</td>\n",
       "      <td>73</td>\n",
       "      <td>4389</td>\n",
       "      <td>60.12</td>\n",
       "      <td>683.3</td>\n",
       "      <td>24.34</td>\n",
       "      <td>low</td>\n",
       "      <td>0.0</td>\n",
       "    </tr>\n",
       "    <tr>\n",
       "      <th>3</th>\n",
       "      <td>1953</td>\n",
       "      <td>71</td>\n",
       "      <td>5250</td>\n",
       "      <td>73.94</td>\n",
       "      <td>893.6</td>\n",
       "      <td>24.57</td>\n",
       "      <td>medium</td>\n",
       "      <td>0.0</td>\n",
       "    </tr>\n",
       "    <tr>\n",
       "      <th>4</th>\n",
       "      <td>1954</td>\n",
       "      <td>74</td>\n",
       "      <td>5294</td>\n",
       "      <td>71.54</td>\n",
       "      <td>985.1</td>\n",
       "      <td>24.13</td>\n",
       "      <td>medium</td>\n",
       "      <td>0.0</td>\n",
       "    </tr>\n",
       "  </tbody>\n",
       "</table>\n",
       "</div>"
      ],
      "text/plain": [
       "   year  area  production  productivity  rainfall  temperature  \\\n",
       "0  1950    75        5009         66.79     932.6        23.71   \n",
       "1  1951    84        5751         68.46     797.0        24.22   \n",
       "2  1952    73        4389         60.12     683.3        24.34   \n",
       "3  1953    71        5250         73.94     893.6        24.57   \n",
       "4  1954    74        5294         71.54     985.1        24.13   \n",
       "\n",
       "  productivity_type  Target  \n",
       "0               low     0.0  \n",
       "1               low     0.0  \n",
       "2               low     0.0  \n",
       "3            medium     0.0  \n",
       "4            medium     0.0  "
      ]
     },
     "execution_count": 98,
     "metadata": {},
     "output_type": "execute_result"
    }
   ],
   "source": [
    "df['productivity_type']= df.apply(new_type, axis=1)\n",
    "df.head()"
   ]
  },
  {
   "cell_type": "code",
   "execution_count": 99,
   "metadata": {},
   "outputs": [
    {
     "data": {
      "text/html": [
       "<div>\n",
       "<style scoped>\n",
       "    .dataframe tbody tr th:only-of-type {\n",
       "        vertical-align: middle;\n",
       "    }\n",
       "\n",
       "    .dataframe tbody tr th {\n",
       "        vertical-align: top;\n",
       "    }\n",
       "\n",
       "    .dataframe thead th {\n",
       "        text-align: right;\n",
       "    }\n",
       "</style>\n",
       "<table border=\"1\" class=\"dataframe\">\n",
       "  <thead>\n",
       "    <tr style=\"text-align: right;\">\n",
       "      <th></th>\n",
       "      <th>year</th>\n",
       "      <th>area</th>\n",
       "      <th>production</th>\n",
       "      <th>productivity</th>\n",
       "      <th>rainfall</th>\n",
       "      <th>temperature</th>\n",
       "      <th>productivity_type</th>\n",
       "      <th>Target</th>\n",
       "    </tr>\n",
       "  </thead>\n",
       "  <tbody>\n",
       "    <tr>\n",
       "      <th>0</th>\n",
       "      <td>1950</td>\n",
       "      <td>75</td>\n",
       "      <td>5009</td>\n",
       "      <td>66.79</td>\n",
       "      <td>932.6</td>\n",
       "      <td>23.71</td>\n",
       "      <td>low</td>\n",
       "      <td>0.0</td>\n",
       "    </tr>\n",
       "    <tr>\n",
       "      <th>1</th>\n",
       "      <td>1951</td>\n",
       "      <td>84</td>\n",
       "      <td>5751</td>\n",
       "      <td>68.46</td>\n",
       "      <td>797.0</td>\n",
       "      <td>24.22</td>\n",
       "      <td>low</td>\n",
       "      <td>0.0</td>\n",
       "    </tr>\n",
       "    <tr>\n",
       "      <th>2</th>\n",
       "      <td>1952</td>\n",
       "      <td>73</td>\n",
       "      <td>4389</td>\n",
       "      <td>60.12</td>\n",
       "      <td>683.3</td>\n",
       "      <td>24.34</td>\n",
       "      <td>low</td>\n",
       "      <td>0.0</td>\n",
       "    </tr>\n",
       "    <tr>\n",
       "      <th>3</th>\n",
       "      <td>1953</td>\n",
       "      <td>71</td>\n",
       "      <td>5250</td>\n",
       "      <td>73.94</td>\n",
       "      <td>893.6</td>\n",
       "      <td>24.57</td>\n",
       "      <td>medium</td>\n",
       "      <td>1.0</td>\n",
       "    </tr>\n",
       "    <tr>\n",
       "      <th>4</th>\n",
       "      <td>1954</td>\n",
       "      <td>74</td>\n",
       "      <td>5294</td>\n",
       "      <td>71.54</td>\n",
       "      <td>985.1</td>\n",
       "      <td>24.13</td>\n",
       "      <td>medium</td>\n",
       "      <td>1.0</td>\n",
       "    </tr>\n",
       "    <tr>\n",
       "      <th>...</th>\n",
       "      <td>...</td>\n",
       "      <td>...</td>\n",
       "      <td>...</td>\n",
       "      <td>...</td>\n",
       "      <td>...</td>\n",
       "      <td>...</td>\n",
       "      <td>...</td>\n",
       "      <td>...</td>\n",
       "    </tr>\n",
       "    <tr>\n",
       "      <th>63</th>\n",
       "      <td>2013</td>\n",
       "      <td>937</td>\n",
       "      <td>76901</td>\n",
       "      <td>82.07</td>\n",
       "      <td>962.4</td>\n",
       "      <td>24.82</td>\n",
       "      <td>medium</td>\n",
       "      <td>1.0</td>\n",
       "    </tr>\n",
       "    <tr>\n",
       "      <th>64</th>\n",
       "      <td>2014</td>\n",
       "      <td>1048</td>\n",
       "      <td>81870</td>\n",
       "      <td>78.12</td>\n",
       "      <td>838.0</td>\n",
       "      <td>24.73</td>\n",
       "      <td>medium</td>\n",
       "      <td>1.0</td>\n",
       "    </tr>\n",
       "    <tr>\n",
       "      <th>65</th>\n",
       "      <td>2015</td>\n",
       "      <td>987</td>\n",
       "      <td>75087</td>\n",
       "      <td>76.08</td>\n",
       "      <td>644.5</td>\n",
       "      <td>24.91</td>\n",
       "      <td>medium</td>\n",
       "      <td>1.0</td>\n",
       "    </tr>\n",
       "    <tr>\n",
       "      <th>66</th>\n",
       "      <td>2016</td>\n",
       "      <td>633</td>\n",
       "      <td>52262</td>\n",
       "      <td>82.56</td>\n",
       "      <td>906.3</td>\n",
       "      <td>26.45</td>\n",
       "      <td>medium</td>\n",
       "      <td>1.0</td>\n",
       "    </tr>\n",
       "    <tr>\n",
       "      <th>67</th>\n",
       "      <td>2017</td>\n",
       "      <td>943</td>\n",
       "      <td>70958</td>\n",
       "      <td>75.25</td>\n",
       "      <td>994.4</td>\n",
       "      <td>26.65</td>\n",
       "      <td>medium</td>\n",
       "      <td>1.0</td>\n",
       "    </tr>\n",
       "  </tbody>\n",
       "</table>\n",
       "<p>68 rows × 8 columns</p>\n",
       "</div>"
      ],
      "text/plain": [
       "    year  area  production  productivity  rainfall  temperature  \\\n",
       "0   1950    75        5009         66.79     932.6        23.71   \n",
       "1   1951    84        5751         68.46     797.0        24.22   \n",
       "2   1952    73        4389         60.12     683.3        24.34   \n",
       "3   1953    71        5250         73.94     893.6        24.57   \n",
       "4   1954    74        5294         71.54     985.1        24.13   \n",
       "..   ...   ...         ...           ...       ...          ...   \n",
       "63  2013   937       76901         82.07     962.4        24.82   \n",
       "64  2014  1048       81870         78.12     838.0        24.73   \n",
       "65  2015   987       75087         76.08     644.5        24.91   \n",
       "66  2016   633       52262         82.56     906.3        26.45   \n",
       "67  2017   943       70958         75.25     994.4        26.65   \n",
       "\n",
       "   productivity_type  Target  \n",
       "0                low     0.0  \n",
       "1                low     0.0  \n",
       "2                low     0.0  \n",
       "3             medium     1.0  \n",
       "4             medium     1.0  \n",
       "..               ...     ...  \n",
       "63            medium     1.0  \n",
       "64            medium     1.0  \n",
       "65            medium     1.0  \n",
       "66            medium     1.0  \n",
       "67            medium     1.0  \n",
       "\n",
       "[68 rows x 8 columns]"
      ]
     },
     "execution_count": 99,
     "metadata": {},
     "output_type": "execute_result"
    }
   ],
   "source": [
    "# Assigning target value repective to productivity type \n",
    "df.loc[df['productivity_type'] == 'high', 'Target'] = 2\n",
    "df.loc[df['productivity_type'] == 'medium', 'Target'] = 1\n",
    "df.loc[df['productivity_type'] == 'low', 'Target'] = 0\n",
    "df"
   ]
  },
  {
   "cell_type": "code",
   "execution_count": 100,
   "metadata": {},
   "outputs": [],
   "source": [
    "# Dropping dropping Target column and productivity\n",
    "x = df.drop([\"productivity_type\",\"Target\"],axis = \"columns\")\n",
    "\n",
    "y = df.Target\n",
    "\n",
    "X_train, X_test, y_train, y_test = train_test_split(x, y, train_size=0.8, random_state = 0)"
   ]
  },
  {
   "cell_type": "code",
   "execution_count": 101,
   "metadata": {},
   "outputs": [
    {
     "data": {
      "text/plain": [
       "RandomForestRegressor(n_estimators=50)"
      ]
     },
     "execution_count": 101,
     "metadata": {},
     "output_type": "execute_result"
    }
   ],
   "source": [
    "model = RandomForestRegressor(n_estimators=50)\n",
    "model.fit(X_train,y_train)"
   ]
  },
  {
   "cell_type": "code",
   "execution_count": 102,
   "metadata": {},
   "outputs": [
    {
     "data": {
      "text/plain": [
       "0.9995333333333334"
      ]
     },
     "execution_count": 102,
     "metadata": {},
     "output_type": "execute_result"
    }
   ],
   "source": [
    "model.score(X_test,y_test)"
   ]
  },
  {
   "cell_type": "code",
   "execution_count": 103,
   "metadata": {},
   "outputs": [
    {
     "data": {
      "text/plain": [
       "array([2.  , 2.  , 2.  , 1.  , 2.  , 1.  , 2.  , 1.04, 1.  , 1.  , 2.  ,\n",
       "       1.  , 1.  , 1.  ])"
      ]
     },
     "execution_count": 103,
     "metadata": {},
     "output_type": "execute_result"
    }
   ],
   "source": [
    "y_pred = model.predict(X_test)\n",
    "y_pred"
   ]
  },
  {
   "cell_type": "code",
   "execution_count": 106,
   "metadata": {},
   "outputs": [
    {
     "data": {
      "image/png": "[encoded data removed]",
      "text/plain": [
       "<Figure size 432x288 with 1 Axes>"
      ]
     },
     "metadata": {
      "needs_background": "light"
     },
     "output_type": "display_data"
    }
   ],
   "source": [
    "dm = pd.DataFrame({'Actual': y_test, 'Predicted': y_pred}).reset_index()\n",
    "x_axis=dm.index\n",
    "y_axis=dm.Actual\n",
    "y1_axis=dm.Predicted\n",
    "plt.plot(x_axis,y_axis)\n",
    "plt.plot(x_axis,y1_axis)\n",
    "plt.title(\"Actual vs Predicted\")\n",
    "plt.legend([\"actual \",\"predicted\"])\n",
    "plt.show()"
   ]
  },
  {
   "cell_type": "code",
   "execution_count": 107,
   "metadata": {},
   "outputs": [
    {
     "data": {
      "text/html": [
       "<div>\n",
       "<style scoped>\n",
       "    .dataframe tbody tr th:only-of-type {\n",
       "        vertical-align: middle;\n",
       "    }\n",
       "\n",
       "    .dataframe tbody tr th {\n",
       "        vertical-align: top;\n",
       "    }\n",
       "\n",
       "    .dataframe thead th {\n",
       "        text-align: right;\n",
       "    }\n",
       "</style>\n",
       "<table border=\"1\" class=\"dataframe\">\n",
       "  <thead>\n",
       "    <tr style=\"text-align: right;\">\n",
       "      <th></th>\n",
       "      <th>index</th>\n",
       "      <th>Actual</th>\n",
       "      <th>Predicted</th>\n",
       "    </tr>\n",
       "  </thead>\n",
       "  <tbody>\n",
       "    <tr>\n",
       "      <th>0</th>\n",
       "      <td>48</td>\n",
       "      <td>2.0</td>\n",
       "      <td>2.00</td>\n",
       "    </tr>\n",
       "    <tr>\n",
       "      <th>1</th>\n",
       "      <td>27</td>\n",
       "      <td>2.0</td>\n",
       "      <td>2.00</td>\n",
       "    </tr>\n",
       "    <tr>\n",
       "      <th>2</th>\n",
       "      <td>32</td>\n",
       "      <td>2.0</td>\n",
       "      <td>2.00</td>\n",
       "    </tr>\n",
       "    <tr>\n",
       "      <th>3</th>\n",
       "      <td>22</td>\n",
       "      <td>1.0</td>\n",
       "      <td>1.00</td>\n",
       "    </tr>\n",
       "    <tr>\n",
       "      <th>4</th>\n",
       "      <td>31</td>\n",
       "      <td>2.0</td>\n",
       "      <td>2.00</td>\n",
       "    </tr>\n",
       "    <tr>\n",
       "      <th>5</th>\n",
       "      <td>45</td>\n",
       "      <td>1.0</td>\n",
       "      <td>1.00</td>\n",
       "    </tr>\n",
       "    <tr>\n",
       "      <th>6</th>\n",
       "      <td>30</td>\n",
       "      <td>2.0</td>\n",
       "      <td>2.00</td>\n",
       "    </tr>\n",
       "    <tr>\n",
       "      <th>7</th>\n",
       "      <td>60</td>\n",
       "      <td>1.0</td>\n",
       "      <td>1.04</td>\n",
       "    </tr>\n",
       "    <tr>\n",
       "      <th>8</th>\n",
       "      <td>55</td>\n",
       "      <td>1.0</td>\n",
       "      <td>1.00</td>\n",
       "    </tr>\n",
       "    <tr>\n",
       "      <th>9</th>\n",
       "      <td>62</td>\n",
       "      <td>1.0</td>\n",
       "      <td>1.00</td>\n",
       "    </tr>\n",
       "    <tr>\n",
       "      <th>10</th>\n",
       "      <td>28</td>\n",
       "      <td>2.0</td>\n",
       "      <td>2.00</td>\n",
       "    </tr>\n",
       "    <tr>\n",
       "      <th>11</th>\n",
       "      <td>41</td>\n",
       "      <td>1.0</td>\n",
       "      <td>1.00</td>\n",
       "    </tr>\n",
       "    <tr>\n",
       "      <th>12</th>\n",
       "      <td>67</td>\n",
       "      <td>1.0</td>\n",
       "      <td>1.00</td>\n",
       "    </tr>\n",
       "    <tr>\n",
       "      <th>13</th>\n",
       "      <td>58</td>\n",
       "      <td>1.0</td>\n",
       "      <td>1.00</td>\n",
       "    </tr>\n",
       "  </tbody>\n",
       "</table>\n",
       "</div>"
      ],
      "text/plain": [
       "    index  Actual  Predicted\n",
       "0      48     2.0       2.00\n",
       "1      27     2.0       2.00\n",
       "2      32     2.0       2.00\n",
       "3      22     1.0       1.00\n",
       "4      31     2.0       2.00\n",
       "5      45     1.0       1.00\n",
       "6      30     2.0       2.00\n",
       "7      60     1.0       1.04\n",
       "8      55     1.0       1.00\n",
       "9      62     1.0       1.00\n",
       "10     28     2.0       2.00\n",
       "11     41     1.0       1.00\n",
       "12     67     1.0       1.00\n",
       "13     58     1.0       1.00"
      ]
     },
     "execution_count": 107,
     "metadata": {},
     "output_type": "execute_result"
    }
   ],
   "source": [
    "dm"
   ]
  }
 ],
 "metadata": {
  "kernelspec": {
   "display_name": "Python 3",
   "language": "python",
   "name": "python3"
  },
  "language_info": {
   "codemirror_mode": {
    "name": "ipython",
    "version": 3
   },
   "file_extension": ".py",
   "mimetype": "text/x-python",
   "name": "python",
   "nbconvert_exporter": "python",
   "pygments_lexer": "ipython3",
   "version": "3.8.5"
  }
 },
 "nbformat": 4,
 "nbformat_minor": 4
}
